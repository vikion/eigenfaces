{
 "cells": [
  {
   "cell_type": "code",
   "execution_count": null,
   "id": "4c5d257f-0cf1-4b10-b316-0f7486a101a2",
   "metadata": {
    "pycharm": {
     "name": "#%%\n"
    }
   },
   "outputs": [],
   "source": [
    "import requests\n",
    "import urllib.request\n",
    "import os\n",
    "from bs4 import BeautifulSoup"
   ]
  },
  {
   "cell_type": "markdown",
   "id": "c8377cf5-a180-4712-8931-e5b1e72b8515",
   "metadata": {
    "pycharm": {
     "name": "#%% md\n"
    }
   },
   "source": [
    "### Funkcia na úpravu mena zamestnanca"
   ]
  },
  {
   "cell_type": "code",
   "execution_count": 5,
   "id": "437031b4-c8fa-4780-9bb1-96911b2d8505",
   "metadata": {
    "pycharm": {
     "name": "#%%\n"
    }
   },
   "outputs": [],
   "source": [
    "# funkcia dostane meno zamestnanca s diakritikou a všetkými titulmi\n",
    "# a vráti len meno bez diakritiky\n",
    "def modifName(name):\n",
    "    # rozdelenie mena na jednotlive casti\n",
    "    name = name.split(\" \")\n",
    "    s = \"\"\n",
    "    # odstranenie titulov (heuristika, ze tituly koncia bodkou sa ukazala ako postacujuca)\n",
    "    for i in name:\n",
    "        if i[-1] != \".\":\n",
    "            s += i.strip(\",\")+\" \"\n",
    "    # odstranenie diakritiky\n",
    "    s = s.strip()\n",
    "    s = s.replace(\"á\", \"a\")\n",
    "    s = s.replace(\"é\", \"e\")\n",
    "    s = s.replace(\"í\", \"i\")\n",
    "    s = s.replace(\"ó\", \"o\")\n",
    "    s = s.replace(\"ú\", \"u\")\n",
    "    s = s.replace(\"ý\", \"y\")\n",
    "    s = s.replace(\"ž\", \"z\")\n",
    "    s = s.replace(\"ť\", \"t\")\n",
    "    s = s.replace(\"č\", \"c\")\n",
    "    s = s.replace(\"š\", \"s\")\n",
    "    s = s.replace(\"ď\", \"d\")\n",
    "    s = s.replace(\"ň\", \"n\")\n",
    "    s = s.replace(\"ľ\", \"l\")\n",
    "    s = s.replace(\"ř\", \"r\")\n",
    "    s = s.replace(\"Ž\", \"Z\")\n",
    "    s = s.replace(\"Ť\", \"T\")\n",
    "    s = s.replace(\"Č\", \"C\")\n",
    "    s = s.replace(\"Š\", \"S\")\n",
    "    s = s.replace(\"Ď\", \"D\")\n",
    "    s = s.replace(\"Ň\", \"N\")\n",
    "    s = s.replace(\"Ľ\", \"L\")\n",
    "    s = s.replace(\"ô\", \"o\")\n",
    "    s = s.replace(\"ä\", \"a\")\n",
    "    s = s.replace(\" \", \"_\")\n",
    "    return s\n",
    "    "
   ]
  },
  {
   "cell_type": "markdown",
   "id": "035b55af-2c4e-4f31-ab1b-3a377f80e9f7",
   "metadata": {
    "pycharm": {
     "name": "#%% md\n"
    }
   },
   "source": [
    "### Ziskavanie fotiek"
   ]
  },
  {
   "cell_type": "code",
   "execution_count": 6,
   "id": "203dae94-45f8-4ad9-8a7d-2075abd8b2e5",
   "metadata": {
    "pycharm": {
     "name": "#%%\n"
    }
   },
   "outputs": [],
   "source": [
    "basePhoto = \"https://sluzby.fmph.uniba.sk/\"\n",
    "noPhotoFile = open(\"noPhoto.jpg\", \"rb\")\n",
    "noPhoto = noPhotoFile.read()\n",
    "noPhotoFile.close()\n",
    "  \n",
    "# funkcia na ziskavanie fotky zamestnanca z jeho podstranky\n",
    "# dostane meno zamestnanca, url jeho podstranky, skratku jeho katedry a zlozku na ukladanie fotiek\n",
    "def getImages(href, meno, kat, main):\n",
    "    # nacitanie podstranky zamestnanca\n",
    "    personPage = requests.get(href).text\n",
    "    personParsed = BeautifulSoup(personPage, \"html.parser\")\n",
    "    \n",
    "    # najdenie obrazka na stranke\n",
    "    temp = personParsed.select(\"aside.span3 img\")\n",
    "    #print(temp)\n",
    "    if temp != []:\n",
    "        for i in temp:\n",
    "            # vyber z fotografie zamestnanca\n",
    "            if i[\"alt\"] != \"photo\":\n",
    "                # nacitanie obrazok\n",
    "                img = i[\"src\"]\n",
    "                imgData = requests.get(basePhoto+img)\n",
    "                # kontrola ci obrazok nie je placeholder\n",
    "                if imgData.content != noPhoto:\n",
    "                    fileName = modifName(meno)\n",
    "                    # ulozenie obrazka do zlozky na to urcenej s nazvom \"[katedra]_[upravene meno].jpg\n",
    "                    f = open(main+\"/\"+kat+\"_\"+fileName+\".jpg\", \"wb\")\n",
    "                    f.write(imgData.content)\n",
    "                    f.close()\n",
    "    else:\n",
    "        # v pripade problemu vypise do konzoly informaciu o ktoreho zamestnanca ide\n",
    "        print(\"Pri\", meno, \"sa vyskytol problem s obrazkami\")\n",
    "\n",
    "# funkcia na ziskavanie fotiek zamestnancou zo stranky katedry\n",
    "# dotane skratku nazvu katedry, url jej stranky a zlozku na ukladanie fotiek\n",
    "def findPhotos(baseUrl, kat, main):    \n",
    "    # nacita stranku katedry\n",
    "    basePage = requests.get(baseUrl).text\n",
    "    baseParsed = BeautifulSoup(basePage, \"html.parser\")\n",
    "\n",
    "    # nacitanie vsetkych url pre podstranky zamestnancou\n",
    "    links = baseParsed.select(\"table a\")\n",
    "    for i, clovek in enumerate(links):\n",
    "        href = clovek[\"href\"]\n",
    "        # kontrola ci ide o podstranku zamestnanca\n",
    "        if \"javascript\" not in href:\n",
    "            meno = clovek.text\n",
    "            # zavolanie funkciu na ziskavanie fotky z podstranky zamestnanca\n",
    "            getImages(href, meno, kat, main) \n",
    "    # oznamenie ukoncenia ziskavania fotografii\n",
    "    print(\"Hotovo\", kat)"
   ]
  },
  {
   "cell_type": "code",
   "execution_count": null,
   "id": "74b505de-3576-4ce8-9364-654c885c14a5",
   "metadata": {
    "pycharm": {
     "name": "#%%\n"
    }
   },
   "outputs": [],
   "source": [
    "mainFolder = \"photos\"\n",
    "\n",
    "# vytvorenie zlozky na fotografie\n",
    "try:\n",
    "    os.mkdir(mainFolder)\n",
    "except:\n",
    "    print(\"Problem, asi uz existujuca zlozka\")\n",
    "\n",
    "# slovnik obsahujuci skratky katedier a url ich stránok\n",
    "katedry = {\"KAG\": \"https://fmph.uniba.sk/pracoviska/katedra-algebry-a-geometrie/\",\n",
    "           \"KAMS\": \"https://fmph.uniba.sk/pracoviska/katedra-aplikovanej-matematiky-a-statistiky/\",\n",
    "           \"KMANM\": \"https://fmph.uniba.sk/pracoviska/katedra-matematickej-analyzy-a-numerickej-matematiky/\",\n",
    "           \"KAFZM\": \"https://fmph.uniba.sk/pracoviska/katedra-astronomie-fyziky-zeme-a-meteorologie/\", \n",
    "           \"KEF\": \"https://fmph.uniba.sk/pracoviska/katedra-experimentalnej-fyziky/\",\n",
    "           \"KJFB\": \"https://fmph.uniba.sk/pracoviska/katedra-jadrovej-fyziky-a-biofyziky/\",\n",
    "           \"KTF\": \"https://fmph.uniba.sk/pracoviska/katedra-teoretickej-fyziky/\",\n",
    "           \"AIN\": \"https://fmph.uniba.sk/pracoviska/katedra-aplikovanej-informatiky/\",\n",
    "           \"INF\": \"https://fmph.uniba.sk/pracoviska/katedra-informatiky/\",\n",
    "           \"KDMFI\": \"https://fmph.uniba.sk/pracoviska/katedra-didaktiky-matematiky-fyziky-a-informatiky/\",\n",
    "           \"KJP\": \"https://fmph.uniba.sk/pracoviska/katedra-jazykovej-pripravy/\",\n",
    "           \"KTVS\": \"https://fmph.uniba.sk/pracoviska/katedra-telesnej-vychovy-a-sportu/\",\n",
    "           \"HIP_dek\": \"https://fmph.uniba.sk/pracoviska/dekanat/\",\n",
    "           \"HIP_cpp\": \"https://fmph.uniba.sk/pracoviska/centrum-projektovej-podpory/\",\n",
    "           \"HIP_kec\": \"https://fmph.uniba.sk/pracoviska/kniznicne-a-edicne-centrum/\",\n",
    "           \"HIP_vc\": \"https://fmph.uniba.sk/pracoviska/vypoctove-centrum/\",\n",
    "           \"HIP_vl\": \"https://fmph.uniba.sk/pracoviska/vyvojove-laboratorium/\",\n",
    "           \"HIP_sb\": \"https://fmph.uniba.sk/pracoviska/sprava-budov/\"}\n",
    "\n",
    "# pre kazdu katedru zavola funkciu na ziskavanie fotografii\n",
    "for k, url in katedry.items():\n",
    "    findPhotos(url, k, mainFolder)"
   ]
  },
  {
   "cell_type": "markdown",
   "id": "4f64d010-af54-45a2-a098-58b32e4e5f50",
   "metadata": {
    "pycharm": {
     "name": "#%% md\n"
    }
   },
   "source": [
    "#### Katedra aplikovanej informatiky naviac"
   ]
  },
  {
   "cell_type": "code",
   "execution_count": null,
   "id": "ce668ac4-4c45-458a-b850-e69122d8d69d",
   "metadata": {
    "pycharm": {
     "name": "#%%\n"
    }
   },
   "outputs": [],
   "source": [
    "baseUrl = \"https://dai.fmph.uniba.sk\"\n",
    "vsetci = \"/w/People/sk\"\n",
    "kat = \"AIN_extra\"\n",
    "noPhotoFile2 = open(\"noPhoto2.jpg\", \"rb\")\n",
    "noPhoto2 = noPhotoFile2.read()\n",
    "noPhotoFile2.close()\n",
    "\n",
    "# upravena verzia na ziskavanie fotografii z katedry aplikovanej informatiky z ich vlastnej stranky\n",
    "def getImagesExtra(clovek, meno, kat, main):\n",
    "    # nacitanie stranky s fotografiou\n",
    "    personPage = requests.get(baseUrl+clovek).text\n",
    "    personParsed = BeautifulSoup(personPage, \"html.parser\")\n",
    "    \n",
    "    # najdenie obrazkou\n",
    "    temp = personParsed.select(\"div#mw-content-text table a.image\")\n",
    "    #print(temp)\n",
    "    if temp != []:\n",
    "        for i in temp:\n",
    "            # vyber fotografie zamestnanca\n",
    "            if i[\"title\"] != \"@\":\n",
    "                # nacitanie stranky s obrazkom\n",
    "                personPage2 = requests.get(baseUrl+i[\"href\"]).text\n",
    "                personParsed2 = BeautifulSoup(personPage2, \"html.parser\")\n",
    "                \n",
    "                # finalny vyber obrazka\n",
    "                temp = personParsed2.select(\"div.fullImageLink img\")\n",
    "                #print(temp)\n",
    "                if temp != []:\n",
    "                    # nacitanie obrazka\n",
    "                    img = temp[0][\"src\"]\n",
    "                    imgData = requests.get(baseUrl+img)\n",
    "                    # kontrola ci nie je fotografia placeholder\n",
    "                    if imgData.content != noPhoto2:\n",
    "                        fileName = modifName(meno)\n",
    "                        # ulozenie obrazka do zlozky na to urcenej s nazvom \"[katedra]_extra_[upravene meno].jpg\n",
    "                        f = open(main+\"/\"+kat+\"_\"+fileName+\".jpg\", \"wb\")\n",
    "                        f.write(imgData.content)\n",
    "                        f.close()\n",
    "                else:\n",
    "                    print(\"Pri\", meno, \"sa vyskytol problem s obrazkom 0\")\n",
    "    else:\n",
    "        print(\"Pri\", meno, \"sa vyskytol problem s obrazkom\")\n",
    "\n",
    "# nacitanie stranky so zamestnancami\n",
    "basePage = requests.get(baseUrl+vsetci).text\n",
    "baseParsed = BeautifulSoup(basePage, \"html.parser\")\n",
    "\n",
    "# ziskavanie podstranok zamestnancov\n",
    "links = baseParsed.select(\"table a\")\n",
    "for i, clovek in enumerate(links):\n",
    "    href = clovek[\"href\"]\n",
    "    if href[:3] == \"/w/\":\n",
    "        # ziskavanie fotografii zamestnancov z ich podstranok\n",
    "        getImagesExtra(href, clovek[\"title\"], kat, mainFolder)\n",
    "        \n",
    "print(\"Hotovo\", kat)        \n"
   ]
  }
 ],
 "metadata": {
  "kernelspec": {
   "display_name": "Python 3 (ipykernel)",
   "language": "python",
   "name": "python3"
  },
  "language_info": {
   "codemirror_mode": {
    "name": "ipython",
    "version": 3
   },
   "file_extension": ".py",
   "mimetype": "text/x-python",
   "name": "python",
   "nbconvert_exporter": "python",
   "pygments_lexer": "ipython3",
   "version": "3.10.7"
  }
 },
 "nbformat": 4,
 "nbformat_minor": 5
}